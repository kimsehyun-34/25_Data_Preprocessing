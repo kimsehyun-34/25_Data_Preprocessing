{
 "cells": [
  {
   "cell_type": "code",
   "execution_count": 1,
   "id": "f5bbc83b",
   "metadata": {},
   "outputs": [
    {
     "name": "stdout",
     "output_type": "stream",
     "text": [
      "Collecting numpy\n",
      "  Downloading numpy-1.19.5-cp36-cp36m-win_amd64.whl (13.2 MB)\n",
      "Installing collected packages: numpy\n",
      "Successfully installed numpy-1.19.5\n"
     ]
    }
   ],
   "source": [
    "!pip install numpy"
   ]
  },
  {
   "cell_type": "code",
   "execution_count": 2,
   "id": "fa200ec2",
   "metadata": {},
   "outputs": [],
   "source": [
    "import numpy as np"
   ]
  },
  {
   "cell_type": "code",
   "execution_count": 3,
   "id": "bbe89948",
   "metadata": {},
   "outputs": [
    {
     "name": "stdout",
     "output_type": "stream",
     "text": [
      "[[1 2 3]\n",
      " [4 5 6]]\n"
     ]
    }
   ],
   "source": [
    "a=np.array([[1,2,3],[4,5,6]])\n",
    "print(a)"
   ]
  },
  {
   "cell_type": "code",
   "execution_count": 11,
   "id": "bb0d3567",
   "metadata": {},
   "outputs": [
    {
     "name": "stdout",
     "output_type": "stream",
     "text": [
      "안\n",
      "안녕하세요\n",
      " 지금은 데이터 전처리 수업 시간입니다.\n",
      "데이터 \n",
      "입\n"
     ]
    }
   ],
   "source": [
    "A=\"안녕하세요 지금은 데이터 전처리 수업 시간입니다.\"\n",
    "print(A[0])\n",
    "print(A[:5])\n",
    "print(A[5:])\n",
    "print(A[10:14])\n",
    "print(A[-4])"
   ]
  },
  {
   "cell_type": "code",
   "execution_count": 12,
   "id": "3cca7db1",
   "metadata": {},
   "outputs": [
    {
     "name": "stdout",
     "output_type": "stream",
     "text": [
      "안녕하세요\n",
      "반갑습니다\n"
     ]
    }
   ],
   "source": [
    "print(\"안녕하세요\\n반갑습니다\")"
   ]
  },
  {
   "cell_type": "code",
   "execution_count": 18,
   "id": "9e16ea3c",
   "metadata": {},
   "outputs": [
    {
     "name": "stdout",
     "output_type": "stream",
     "text": [
      "안녕 반가워\n"
     ]
    }
   ],
   "source": [
    "A=\"안녕 {}\" # 타깃에 중괄호 필수\n",
    "B=\"반가워\"\n",
    "print(A.format(B))"
   ]
  },
  {
   "cell_type": "code",
   "execution_count": 16,
   "id": "e8f49c74",
   "metadata": {},
   "outputs": [
    {
     "name": "stdout",
     "output_type": "stream",
     "text": [
      "My name is John and I'm 30 years old.\n"
     ]
    }
   ],
   "source": [
    "name = \"John\"\n",
    "age = 30\n",
    "print(\"My name is {} and I'm {} years old.\".format(name, age))"
   ]
  },
  {
   "cell_type": "code",
   "execution_count": 25,
   "id": "0487fc67",
   "metadata": {},
   "outputs": [
    {
     "name": "stdout",
     "output_type": "stream",
     "text": [
      "70\n"
     ]
    }
   ],
   "source": [
    "A=[10,20,30,40,50,60,70,80,90]\n",
    "print(A[0]+A[5])"
   ]
  },
  {
   "cell_type": "code",
   "execution_count": 19,
   "id": "0c27c1cf",
   "metadata": {},
   "outputs": [
    {
     "name": "stdout",
     "output_type": "stream",
     "text": [
      "독고영재, 50\n",
      "독고영재\n"
     ]
    }
   ],
   "source": [
    "A = [\"독고영재, 50\", \"김철수, 30\"]\n",
    "print(A[0])\n",
    "print(A[0][0:4])"
   ]
  },
  {
   "cell_type": "code",
   "execution_count": 51,
   "id": "eba2331e",
   "metadata": {},
   "outputs": [
    {
     "name": "stdout",
     "output_type": "stream",
     "text": [
      "4\n",
      "독고영재\n"
     ]
    }
   ],
   "source": [
    "a=[\"독고영재, 50\", \"김철수, 30\"]\n",
    "b=[\"김철수, 20\", \"김영희, 25\"]\n",
    "\n",
    "print(a[0][:a[0].index(\",\")]) # 를 탐지해서 파싱"
   ]
  },
  {
   "cell_type": "code",
   "execution_count": 52,
   "id": "fcbdf860",
   "metadata": {},
   "outputs": [],
   "source": [
    "#===="
   ]
  },
  {
   "cell_type": "code",
   "execution_count": 57,
   "id": "258dc4f8",
   "metadata": {},
   "outputs": [
    {
     "name": "stdout",
     "output_type": "stream",
     "text": [
      "[1 2 3 4 5]\n",
      "[1 2 3 4 5 6 7]\n",
      "[1 6 7 2 3 4 5]\n"
     ]
    }
   ],
   "source": [
    "a=np.array([1,2,3,4,5])\n",
    "print(a)\n",
    "b=np.append(a,[6,7])\n",
    "print(b)\n",
    "c=np.insert(a,1,[6,7]) # 1번 칸에 입력\n",
    "print(c)"
   ]
  },
  {
   "cell_type": "code",
   "execution_count": 59,
   "id": "033836a6",
   "metadata": {},
   "outputs": [
    {
     "name": "stdout",
     "output_type": "stream",
     "text": [
      "[1 3 5]\n"
     ]
    }
   ],
   "source": [
    "d=np.delete(a,[1,3]) # 1번 칸 3번칸 삭제\n",
    "print(d)"
   ]
  },
  {
   "cell_type": "code",
   "execution_count": 60,
   "id": "3394f8e2",
   "metadata": {},
   "outputs": [
    {
     "name": "stdout",
     "output_type": "stream",
     "text": [
      "[1 2 3 5]\n"
     ]
    }
   ],
   "source": [
    "print(a[a!=4])"
   ]
  },
  {
   "cell_type": "code",
   "execution_count": 61,
   "id": "10fb1abf",
   "metadata": {},
   "outputs": [
    {
     "name": "stdout",
     "output_type": "stream",
     "text": [
      "[[1 2]\n",
      " [3 4]\n",
      " [5 6]\n",
      " [7 8]]\n"
     ]
    }
   ],
   "source": [
    "# 수직합\n",
    "\n",
    "array1 = np.array([[1, 2], [3, 4]])\n",
    "array2 = np.array([[5, 6], [7, 8]])\n",
    "merged_array = np.vstack((array1, array2))\n",
    "print(merged_array)"
   ]
  },
  {
   "cell_type": "code",
   "execution_count": 62,
   "id": "619ea8d0",
   "metadata": {},
   "outputs": [
    {
     "name": "stdout",
     "output_type": "stream",
     "text": [
      "[[1 2 5 6]\n",
      " [3 4 7 8]]\n"
     ]
    }
   ],
   "source": [
    "# 수평합\n",
    "\n",
    "array1 = np.array([[1, 2], [3, 4]])\n",
    "array2 = np.array([[5, 6], [7, 8]])\n",
    "merged_array = np.hstack((array1, array2))\n",
    "print(merged_array)"
   ]
  },
  {
   "cell_type": "code",
   "execution_count": null,
   "id": "7804a37f",
   "metadata": {},
   "outputs": [],
   "source": [
    "#==== 딕셔너리"
   ]
  },
  {
   "cell_type": "code",
   "execution_count": 64,
   "id": "63bf2c7b",
   "metadata": {},
   "outputs": [
    {
     "name": "stdout",
     "output_type": "stream",
     "text": [
      "독고영재\n",
      "50\n"
     ]
    }
   ],
   "source": [
    "D = [{\"name\":\"독고영재\", \"age\":50},{\"name\":\"김철수\", \"age\":30}]\n",
    "print(D[0][\"name\"])\n",
    "print(D[0][\"age\"])"
   ]
  },
  {
   "cell_type": "code",
   "execution_count": 67,
   "id": "b5cab1b8",
   "metadata": {},
   "outputs": [
    {
     "name": "stdout",
     "output_type": "stream",
     "text": [
      "김철수\n",
      "김철수\n",
      "김철수\n"
     ]
    }
   ],
   "source": [
    "A={1:\"김철수\", 20:\"박영희\"}\n",
    "print(A[1])\n",
    "c=A[1]\n",
    "print(c)\n",
    "d=A.get(1)\n",
    "print(d)"
   ]
  },
  {
   "cell_type": "code",
   "execution_count": null,
   "id": "2343ea32",
   "metadata": {},
   "outputs": [],
   "source": []
  }
 ],
 "metadata": {
  "kernelspec": {
   "display_name": "kim",
   "language": "python",
   "name": "kim"
  },
  "language_info": {
   "codemirror_mode": {
    "name": "ipython",
    "version": 3
   },
   "file_extension": ".py",
   "mimetype": "text/x-python",
   "name": "python",
   "nbconvert_exporter": "python",
   "pygments_lexer": "ipython3",
   "version": "3.6.13"
  }
 },
 "nbformat": 4,
 "nbformat_minor": 5
}
