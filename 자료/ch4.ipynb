{
 "cells": [
  {
   "cell_type": "code",
   "execution_count": 1,
   "id": "fd17a9f6",
   "metadata": {},
   "outputs": [],
   "source": [
    "a = [10, 20, 30, [1,2,3]]"
   ]
  },
  {
   "cell_type": "code",
   "execution_count": 4,
   "id": "4cb54698",
   "metadata": {},
   "outputs": [
    {
     "name": "stdout",
     "output_type": "stream",
     "text": [
      "[1, 2, 3]\n"
     ]
    }
   ],
   "source": [
    "print(a[a.index([1,2,3])])"
   ]
  },
  {
   "cell_type": "code",
   "execution_count": 5,
   "id": "1e919e09",
   "metadata": {},
   "outputs": [],
   "source": [
    "수학 = [20,30,40,50,60]\n",
    "영어 = [50,70,50,60,90]"
   ]
  },
  {
   "cell_type": "code",
   "execution_count": 6,
   "id": "d59b3e18",
   "metadata": {},
   "outputs": [
    {
     "data": {
      "text/plain": [
       "'https://www.naver.com/'"
      ]
     },
     "execution_count": 6,
     "metadata": {},
     "output_type": "execute_result"
    }
   ],
   "source": [
    "import re\n",
    "b = \"https://www.youtube.com/\"\n",
    "\n",
    "re.sub('www.youtube.com', 'www.naver.com', b)"
   ]
  },
  {
   "cell_type": "code",
   "execution_count": 16,
   "id": "4813a36c",
   "metadata": {
    "scrolled": true
   },
   "outputs": [
    {
     "name": "stdout",
     "output_type": "stream",
     "text": [
      "수학평균:  40.0\n",
      "영어평균:  64.0\n"
     ]
    }
   ],
   "source": [
    "am = sum(m) / len(m)\n",
    "ae = sum(e) / len(e)\n",
    "print(\"수학평균: \",am)\n",
    "print(\"영어평균: \",ae)"
   ]
  },
  {
   "cell_type": "code",
   "execution_count": 23,
   "id": "b14c37d6",
   "metadata": {},
   "outputs": [
    {
     "name": "stdout",
     "output_type": "stream",
     "text": [
      "[1 2 4 5]\n"
     ]
    }
   ],
   "source": [
    "import numpy as np\n",
    "\n",
    "a6 = np.array([1,2,100,4,5,900])\n",
    "a6 = np.delete(a6, 2)\n",
    "a6 = np.delete(a6, -1)\n",
    "print(a6)"
   ]
  },
  {
   "cell_type": "code",
   "execution_count": 31,
   "id": "6ef24aae",
   "metadata": {},
   "outputs": [
    {
     "name": "stdout",
     "output_type": "stream",
     "text": [
      "70\n"
     ]
    }
   ],
   "source": [
    "ds = {\"수학점수\":[20,30,40,50,60],\"영어점수\":[50,70,50,60,90]}\n",
    "\n",
    "print(ds[\"수학점수\"][0]+ds[\"영어점수\"][0])"
   ]
  },
  {
   "cell_type": "code",
   "execution_count": 33,
   "id": "3ac94beb",
   "metadata": {},
   "outputs": [
    {
     "name": "stdout",
     "output_type": "stream",
     "text": [
      "하이 하이\n"
     ]
    }
   ],
   "source": []
  },
  {
   "cell_type": "code",
   "execution_count": 35,
   "id": "6428cb0f",
   "metadata": {},
   "outputs": [
    {
     "name": "stdout",
     "output_type": "stream",
     "text": [
      "Collecting pandas\n",
      "  Downloading pandas-1.1.5-cp36-cp36m-win_amd64.whl (8.7 MB)\n",
      "Requirement already satisfied: pytz>=2017.2 in c:\\users\\pc502\\anaconda3\\envs\\kim\\lib\\site-packages (from pandas) (2025.2)\n",
      "Requirement already satisfied: python-dateutil>=2.7.3 in c:\\users\\pc502\\anaconda3\\envs\\kim\\lib\\site-packages (from pandas) (2.9.0.post0)\n",
      "Requirement already satisfied: numpy>=1.15.4 in c:\\users\\pc502\\anaconda3\\envs\\kim\\lib\\site-packages (from pandas) (1.19.5)\n",
      "Requirement already satisfied: six>=1.5 in c:\\users\\pc502\\anaconda3\\envs\\kim\\lib\\site-packages (from python-dateutil>=2.7.3->pandas) (1.17.0)\n",
      "Installing collected packages: pandas\n",
      "Successfully installed pandas-1.1.5\n"
     ]
    }
   ],
   "source": [
    "!pip install pandas"
   ]
  },
  {
   "cell_type": "code",
   "execution_count": 36,
   "id": "34d32715",
   "metadata": {},
   "outputs": [],
   "source": [
    "import pandas as pd"
   ]
  },
  {
   "cell_type": "code",
   "execution_count": 39,
   "id": "83e27e04",
   "metadata": {},
   "outputs": [
    {
     "name": "stdout",
     "output_type": "stream",
     "text": [
      "   0        1   2\n",
      "0  1    Alice  30\n",
      "1  2      Bob  25\n",
      "2  3  Charlie  35\n"
     ]
    }
   ],
   "source": [
    "# array로 df 생성\n",
    "\n",
    "data = np.array([\n",
    "    [1, 'Alice', 30],\n",
    "    [2, 'Bob', 25],\n",
    "    [3, 'Charlie', 35]\n",
    "])\n",
    "df = pd.DataFrame(data)\n",
    "print(df)"
   ]
  },
  {
   "cell_type": "code",
   "execution_count": 43,
   "id": "106e100f",
   "metadata": {},
   "outputs": [
    {
     "name": "stdout",
     "output_type": "stream",
     "text": [
      "  ID     Name Age\n",
      "0  1    Alice  30\n",
      "1  2      Bob  25\n",
      "2  3  Charlie  35\n"
     ]
    }
   ],
   "source": [
    "df = pd.DataFrame(data, columns=['ID', 'Name', 'Age'])\n",
    "print(df)"
   ]
  },
  {
   "cell_type": "code",
   "execution_count": 45,
   "id": "c1d2d281",
   "metadata": {},
   "outputs": [
    {
     "name": "stdout",
     "output_type": "stream",
     "text": [
      "      Name  Age      City\n",
      "0    Alice   25  New York\n",
      "1      Bob   30     Paris\n",
      "2  Charlie   35    London\n"
     ]
    }
   ],
   "source": [
    "#딕셔너리로 df생성\n",
    "\n",
    "data = {\n",
    "    'Name': ['Alice', 'Bob', 'Charlie'],\n",
    "    'Age': [25, 30, 35],\n",
    "    'City': ['New York', 'Paris', 'London']\n",
    "}\n",
    "df = pd.DataFrame(data)\n",
    "print(df)"
   ]
  },
  {
   "cell_type": "code",
   "execution_count": 47,
   "id": "f4841d98",
   "metadata": {},
   "outputs": [
    {
     "name": "stdout",
     "output_type": "stream",
     "text": [
      "    Name  Age      City\n",
      "0  Alice   25  New York\n",
      "1    Bob   30     Paris\n",
      "2    Kim   22    London\n"
     ]
    }
   ],
   "source": [
    "# csv파일을 data로 가져옴\n",
    "\n",
    "csv_data = pd.read_csv(\"C:/Users/PC502/Desktop/test.csv\", header=0)\n",
    "print(csv_data)"
   ]
  },
  {
   "cell_type": "code",
   "execution_count": 50,
   "id": "7bbd4dc5",
   "metadata": {},
   "outputs": [
    {
     "name": "stdout",
     "output_type": "stream",
     "text": [
      "       0    1         2\n",
      "0   Name  Age      City\n",
      "1  Alice   25  New York\n",
      "2    Bob   30     Paris\n",
      "3    Kim   22    London\n"
     ]
    }
   ],
   "source": [
    "# 데이터에 변수명이 없을경우 None, 있을경우 행위치\n",
    "\n",
    "csv_data = pd.read_csv(\"C:/Users/PC502/Desktop/test.csv\", header=None)\n",
    "print(csv_data)"
   ]
  },
  {
   "cell_type": "code",
   "execution_count": 57,
   "id": "6a4073eb",
   "metadata": {},
   "outputs": [
    {
     "data": {
      "text/plain": [
       "(4, 3)"
      ]
     },
     "execution_count": 57,
     "metadata": {},
     "output_type": "execute_result"
    }
   ],
   "source": [
    "csv_data.shape #→ 데이터 프레임의 차원확인"
   ]
  },
  {
   "cell_type": "code",
   "execution_count": 58,
   "id": "22634d01",
   "metadata": {},
   "outputs": [
    {
     "data": {
      "text/plain": [
       "Int64Index([0, 1, 2], dtype='int64')"
      ]
     },
     "execution_count": 58,
     "metadata": {},
     "output_type": "execute_result"
    }
   ],
   "source": [
    "csv_data.columns #→ 데이터 프레임의 변수확인"
   ]
  },
  {
   "cell_type": "code",
   "execution_count": 59,
   "id": "577e7e72",
   "metadata": {},
   "outputs": [
    {
     "data": {
      "text/plain": [
       "0    object\n",
       "1    object\n",
       "2    object\n",
       "dtype: object"
      ]
     },
     "execution_count": 59,
     "metadata": {},
     "output_type": "execute_result"
    }
   ],
   "source": [
    "csv_data.dtypes #→ 데이터 프레임의 변수 타입확인"
   ]
  },
  {
   "cell_type": "code",
   "execution_count": 60,
   "id": "7c369f5f",
   "metadata": {},
   "outputs": [
    {
     "data": {
      "text/html": [
       "<div>\n",
       "<style scoped>\n",
       "    .dataframe tbody tr th:only-of-type {\n",
       "        vertical-align: middle;\n",
       "    }\n",
       "\n",
       "    .dataframe tbody tr th {\n",
       "        vertical-align: top;\n",
       "    }\n",
       "\n",
       "    .dataframe thead th {\n",
       "        text-align: right;\n",
       "    }\n",
       "</style>\n",
       "<table border=\"1\" class=\"dataframe\">\n",
       "  <thead>\n",
       "    <tr style=\"text-align: right;\">\n",
       "      <th></th>\n",
       "      <th>0</th>\n",
       "      <th>1</th>\n",
       "      <th>2</th>\n",
       "    </tr>\n",
       "  </thead>\n",
       "  <tbody>\n",
       "    <tr>\n",
       "      <th>count</th>\n",
       "      <td>4</td>\n",
       "      <td>4</td>\n",
       "      <td>4</td>\n",
       "    </tr>\n",
       "    <tr>\n",
       "      <th>unique</th>\n",
       "      <td>4</td>\n",
       "      <td>4</td>\n",
       "      <td>4</td>\n",
       "    </tr>\n",
       "    <tr>\n",
       "      <th>top</th>\n",
       "      <td>Kim</td>\n",
       "      <td>22</td>\n",
       "      <td>New York</td>\n",
       "    </tr>\n",
       "    <tr>\n",
       "      <th>freq</th>\n",
       "      <td>1</td>\n",
       "      <td>1</td>\n",
       "      <td>1</td>\n",
       "    </tr>\n",
       "  </tbody>\n",
       "</table>\n",
       "</div>"
      ],
      "text/plain": [
       "          0   1         2\n",
       "count     4   4         4\n",
       "unique    4   4         4\n",
       "top     Kim  22  New York\n",
       "freq      1   1         1"
      ]
     },
     "execution_count": 60,
     "metadata": {},
     "output_type": "execute_result"
    }
   ],
   "source": [
    "csv_data.describe() #→ 수치형 변수들에 대한 요약"
   ]
  },
  {
   "cell_type": "code",
   "execution_count": 61,
   "id": "3e2d29b3",
   "metadata": {},
   "outputs": [
    {
     "data": {
      "text/html": [
       "<div>\n",
       "<style scoped>\n",
       "    .dataframe tbody tr th:only-of-type {\n",
       "        vertical-align: middle;\n",
       "    }\n",
       "\n",
       "    .dataframe tbody tr th {\n",
       "        vertical-align: top;\n",
       "    }\n",
       "\n",
       "    .dataframe thead th {\n",
       "        text-align: right;\n",
       "    }\n",
       "</style>\n",
       "<table border=\"1\" class=\"dataframe\">\n",
       "  <thead>\n",
       "    <tr style=\"text-align: right;\">\n",
       "      <th></th>\n",
       "      <th>0</th>\n",
       "      <th>1</th>\n",
       "      <th>2</th>\n",
       "    </tr>\n",
       "  </thead>\n",
       "  <tbody>\n",
       "    <tr>\n",
       "      <th>0</th>\n",
       "      <td>Name</td>\n",
       "      <td>Age</td>\n",
       "      <td>City</td>\n",
       "    </tr>\n",
       "    <tr>\n",
       "      <th>1</th>\n",
       "      <td>Alice</td>\n",
       "      <td>25</td>\n",
       "      <td>New York</td>\n",
       "    </tr>\n",
       "    <tr>\n",
       "      <th>2</th>\n",
       "      <td>Bob</td>\n",
       "      <td>30</td>\n",
       "      <td>Paris</td>\n",
       "    </tr>\n",
       "    <tr>\n",
       "      <th>3</th>\n",
       "      <td>Kim</td>\n",
       "      <td>22</td>\n",
       "      <td>London</td>\n",
       "    </tr>\n",
       "  </tbody>\n",
       "</table>\n",
       "</div>"
      ],
      "text/plain": [
       "       0    1         2\n",
       "0   Name  Age      City\n",
       "1  Alice   25  New York\n",
       "2    Bob   30     Paris\n",
       "3    Kim   22    London"
      ]
     },
     "execution_count": 61,
     "metadata": {},
     "output_type": "execute_result"
    }
   ],
   "source": [
    "csv_data.head() #→ 위에서 다섯개의 값 도출"
   ]
  },
  {
   "cell_type": "code",
   "execution_count": 62,
   "id": "896e9a80",
   "metadata": {},
   "outputs": [
    {
     "data": {
      "text/html": [
       "<div>\n",
       "<style scoped>\n",
       "    .dataframe tbody tr th:only-of-type {\n",
       "        vertical-align: middle;\n",
       "    }\n",
       "\n",
       "    .dataframe tbody tr th {\n",
       "        vertical-align: top;\n",
       "    }\n",
       "\n",
       "    .dataframe thead th {\n",
       "        text-align: right;\n",
       "    }\n",
       "</style>\n",
       "<table border=\"1\" class=\"dataframe\">\n",
       "  <thead>\n",
       "    <tr style=\"text-align: right;\">\n",
       "      <th></th>\n",
       "      <th>0</th>\n",
       "      <th>1</th>\n",
       "      <th>2</th>\n",
       "    </tr>\n",
       "  </thead>\n",
       "  <tbody>\n",
       "    <tr>\n",
       "      <th>0</th>\n",
       "      <td>Name</td>\n",
       "      <td>Age</td>\n",
       "      <td>City</td>\n",
       "    </tr>\n",
       "    <tr>\n",
       "      <th>1</th>\n",
       "      <td>Alice</td>\n",
       "      <td>25</td>\n",
       "      <td>New York</td>\n",
       "    </tr>\n",
       "    <tr>\n",
       "      <th>2</th>\n",
       "      <td>Bob</td>\n",
       "      <td>30</td>\n",
       "      <td>Paris</td>\n",
       "    </tr>\n",
       "    <tr>\n",
       "      <th>3</th>\n",
       "      <td>Kim</td>\n",
       "      <td>22</td>\n",
       "      <td>London</td>\n",
       "    </tr>\n",
       "  </tbody>\n",
       "</table>\n",
       "</div>"
      ],
      "text/plain": [
       "       0    1         2\n",
       "0   Name  Age      City\n",
       "1  Alice   25  New York\n",
       "2    Bob   30     Paris\n",
       "3    Kim   22    London"
      ]
     },
     "execution_count": 62,
     "metadata": {},
     "output_type": "execute_result"
    }
   ],
   "source": [
    "csv_data.tail() #→ 아래에서 다섯개의 값 도출"
   ]
  },
  {
   "cell_type": "code",
   "execution_count": 63,
   "id": "296160f8",
   "metadata": {},
   "outputs": [
    {
     "data": {
      "text/plain": [
       "0    0\n",
       "1    0\n",
       "2    0\n",
       "dtype: int64"
      ]
     },
     "execution_count": 63,
     "metadata": {},
     "output_type": "execute_result"
    }
   ],
   "source": [
    "csv_data.isnull().sum() #→ 결측값이 몇개인지"
   ]
  },
  {
   "cell_type": "code",
   "execution_count": 64,
   "id": "624b2082",
   "metadata": {},
   "outputs": [],
   "source": [
    "# csv_data['column'].value_counts() #→ 카테고리 변수의 어떻게 분포되어 있는지\n",
    "# csv_data['column'].unique() #→ 카테고리 변수의 값들 중 독립적인 값 보기\n",
    "# csv_data['column'].nunique() #→ 카테고리 변수의 값들 중 독립적인 값 갯수"
   ]
  },
  {
   "cell_type": "code",
   "execution_count": null,
   "id": "34d37063",
   "metadata": {},
   "outputs": [],
   "source": []
  }
 ],
 "metadata": {
  "kernelspec": {
   "display_name": "kim",
   "language": "python",
   "name": "kim"
  },
  "language_info": {
   "codemirror_mode": {
    "name": "ipython",
    "version": 3
   },
   "file_extension": ".py",
   "mimetype": "text/x-python",
   "name": "python",
   "nbconvert_exporter": "python",
   "pygments_lexer": "ipython3",
   "version": "3.6.13"
  }
 },
 "nbformat": 4,
 "nbformat_minor": 5
}
